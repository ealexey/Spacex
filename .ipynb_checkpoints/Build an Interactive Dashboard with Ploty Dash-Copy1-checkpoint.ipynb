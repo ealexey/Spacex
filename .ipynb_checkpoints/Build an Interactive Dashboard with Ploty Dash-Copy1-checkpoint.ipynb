{
 "cells": [
  {
   "cell_type": "markdown",
   "id": "e2530025",
   "metadata": {},
   "source": [
    "TASK 1: Add a Launch Site Drop-down Input Component<br>\n",
    "TASK 2: Add a callback function to render success-pie-chart based on selected site dropdown<br>\n",
    "TASK 3: Add a Range Slider to Select Payload<br>\n",
    "TASK 4: Add a callback function to render the success-payload-scatter-chart scatter plot<br>"
   ]
  },
  {
   "cell_type": "code",
   "execution_count": 1,
   "id": "a32a41ab",
   "metadata": {},
   "outputs": [
    {
     "name": "stderr",
     "output_type": "stream",
     "text": [
      "C:\\Users\\User\\Anaconda3\\lib\\site-packages\\ipykernel_launcher.py:7: UserWarning: \n",
      "The dash_core_components package is deprecated. Please replace\n",
      "`import dash_core_components as dcc` with `from dash import dcc`\n",
      "  import sys\n",
      "C:\\Users\\User\\Anaconda3\\lib\\site-packages\\ipykernel_launcher.py:8: UserWarning: \n",
      "The dash_html_components package is deprecated. Please replace\n",
      "`import dash_html_components as html` with `from dash import html`\n",
      "  \n"
     ]
    }
   ],
   "source": [
    "import plotly\n",
    "from jupyter_dash import JupyterDash\n",
    "import dash\n",
    "import pandas as pd\n",
    "import plotly.express as px\n",
    "from dash.dependencies import Input, Output\n",
    "import dash_core_components as dcc\n",
    "import dash_html_components as html"
   ]
  },
  {
   "cell_type": "code",
   "execution_count": 2,
   "id": "4bd14dbc",
   "metadata": {},
   "outputs": [],
   "source": [
    "import wget"
   ]
  },
  {
   "cell_type": "code",
   "execution_count": 3,
   "id": "176057ad",
   "metadata": {},
   "outputs": [
    {
     "name": "stdout",
     "output_type": "stream",
     "text": [
      "\r",
      "  0% [                                                                                ]    0 / 2476\r",
      "100% [................................................................................] 2476 / 2476"
     ]
    }
   ],
   "source": [
    "df=wget.download(\"https://cf-courses-data.s3.us.cloud-object-storage.appdomain.cloud/IBM-DS0321EN-SkillsNetwork/datasets/spacex_launch_dash.csv\")"
   ]
  },
  {
   "cell_type": "code",
   "execution_count": 4,
   "id": "776ae5d7",
   "metadata": {},
   "outputs": [
    {
     "data": {
      "text/html": [
       "<div>\n",
       "<style scoped>\n",
       "    .dataframe tbody tr th:only-of-type {\n",
       "        vertical-align: middle;\n",
       "    }\n",
       "\n",
       "    .dataframe tbody tr th {\n",
       "        vertical-align: top;\n",
       "    }\n",
       "\n",
       "    .dataframe thead th {\n",
       "        text-align: right;\n",
       "    }\n",
       "</style>\n",
       "<table border=\"1\" class=\"dataframe\">\n",
       "  <thead>\n",
       "    <tr style=\"text-align: right;\">\n",
       "      <th></th>\n",
       "      <th>Unnamed: 0</th>\n",
       "      <th>Flight Number</th>\n",
       "      <th>Launch Site</th>\n",
       "      <th>class</th>\n",
       "      <th>Payload Mass (kg)</th>\n",
       "      <th>Booster Version</th>\n",
       "      <th>Booster Version Category</th>\n",
       "    </tr>\n",
       "  </thead>\n",
       "  <tbody>\n",
       "    <tr>\n",
       "      <th>0</th>\n",
       "      <td>0</td>\n",
       "      <td>1</td>\n",
       "      <td>CCAFS LC-40</td>\n",
       "      <td>0</td>\n",
       "      <td>0.0</td>\n",
       "      <td>F9 v1.0  B0003</td>\n",
       "      <td>v1.0</td>\n",
       "    </tr>\n",
       "    <tr>\n",
       "      <th>1</th>\n",
       "      <td>1</td>\n",
       "      <td>2</td>\n",
       "      <td>CCAFS LC-40</td>\n",
       "      <td>0</td>\n",
       "      <td>0.0</td>\n",
       "      <td>F9 v1.0  B0004</td>\n",
       "      <td>v1.0</td>\n",
       "    </tr>\n",
       "    <tr>\n",
       "      <th>2</th>\n",
       "      <td>2</td>\n",
       "      <td>3</td>\n",
       "      <td>CCAFS LC-40</td>\n",
       "      <td>0</td>\n",
       "      <td>525.0</td>\n",
       "      <td>F9 v1.0  B0005</td>\n",
       "      <td>v1.0</td>\n",
       "    </tr>\n",
       "    <tr>\n",
       "      <th>3</th>\n",
       "      <td>3</td>\n",
       "      <td>4</td>\n",
       "      <td>CCAFS LC-40</td>\n",
       "      <td>0</td>\n",
       "      <td>500.0</td>\n",
       "      <td>F9 v1.0  B0006</td>\n",
       "      <td>v1.0</td>\n",
       "    </tr>\n",
       "    <tr>\n",
       "      <th>4</th>\n",
       "      <td>4</td>\n",
       "      <td>5</td>\n",
       "      <td>CCAFS LC-40</td>\n",
       "      <td>0</td>\n",
       "      <td>677.0</td>\n",
       "      <td>F9 v1.0  B0007</td>\n",
       "      <td>v1.0</td>\n",
       "    </tr>\n",
       "  </tbody>\n",
       "</table>\n",
       "</div>"
      ],
      "text/plain": [
       "   Unnamed: 0  Flight Number  Launch Site  class  Payload Mass (kg)  \\\n",
       "0           0              1  CCAFS LC-40      0                0.0   \n",
       "1           1              2  CCAFS LC-40      0                0.0   \n",
       "2           2              3  CCAFS LC-40      0              525.0   \n",
       "3           3              4  CCAFS LC-40      0              500.0   \n",
       "4           4              5  CCAFS LC-40      0              677.0   \n",
       "\n",
       "  Booster Version Booster Version Category  \n",
       "0  F9 v1.0  B0003                     v1.0  \n",
       "1  F9 v1.0  B0004                     v1.0  \n",
       "2  F9 v1.0  B0005                     v1.0  \n",
       "3  F9 v1.0  B0006                     v1.0  \n",
       "4  F9 v1.0  B0007                     v1.0  "
      ]
     },
     "execution_count": 4,
     "metadata": {},
     "output_type": "execute_result"
    }
   ],
   "source": [
    "df=pd.read_csv(df)\n",
    "df.head()"
   ]
  },
  {
   "cell_type": "code",
   "execution_count": 5,
   "id": "cbeb3b16",
   "metadata": {},
   "outputs": [
    {
     "data": {
      "text/plain": [
       "0    32\n",
       "1    24\n",
       "Name: class, dtype: int64"
      ]
     },
     "execution_count": 5,
     "metadata": {},
     "output_type": "execute_result"
    }
   ],
   "source": [
    "df[\"class\"].value_counts()"
   ]
  },
  {
   "cell_type": "code",
   "execution_count": 6,
   "id": "2e9ed8e6",
   "metadata": {},
   "outputs": [
    {
     "data": {
      "text/plain": [
       "Index(['Flight Number', 'Launch Site', 'class', 'Payload Mass (kg)',\n",
       "       'Booster Version', 'Booster Version Category'],\n",
       "      dtype='object')"
      ]
     },
     "execution_count": 6,
     "metadata": {},
     "output_type": "execute_result"
    }
   ],
   "source": [
    "df.drop(columns=([\"Unnamed: 0\"]), inplace=True)\n",
    "df.head()\n",
    "df.columns"
   ]
  },
  {
   "cell_type": "code",
   "execution_count": 7,
   "id": "3ea239bf",
   "metadata": {},
   "outputs": [
    {
     "data": {
      "text/plain": [
       "CCAFS LC-40     26\n",
       "KSC LC-39A      13\n",
       "VAFB SLC-4E     10\n",
       "CCAFS SLC-40     7\n",
       "Name: Launch_Site, dtype: int64"
      ]
     },
     "execution_count": 7,
     "metadata": {},
     "output_type": "execute_result"
    }
   ],
   "source": [
    "col=[str(col).replace(\" \", \"_\") for col in df.columns]\n",
    "col=[col.replace(\"(\", \"\") for col in col]\n",
    "col=[col.replace(\")\", \"\") for col in col]\n",
    "df.columns=col\n",
    "df.columns\n",
    "df[\"Launch_Site\"].value_counts()"
   ]
  },
  {
   "cell_type": "code",
   "execution_count": 8,
   "id": "d91e8a08",
   "metadata": {},
   "outputs": [
    {
     "data": {
      "text/html": [
       "<div>\n",
       "<style scoped>\n",
       "    .dataframe tbody tr th:only-of-type {\n",
       "        vertical-align: middle;\n",
       "    }\n",
       "\n",
       "    .dataframe tbody tr th {\n",
       "        vertical-align: top;\n",
       "    }\n",
       "\n",
       "    .dataframe thead th {\n",
       "        text-align: right;\n",
       "    }\n",
       "</style>\n",
       "<table border=\"1\" class=\"dataframe\">\n",
       "  <thead>\n",
       "    <tr style=\"text-align: right;\">\n",
       "      <th></th>\n",
       "      <th>PayloadMass</th>\n",
       "      <th>success_rate</th>\n",
       "    </tr>\n",
       "  </thead>\n",
       "  <tbody>\n",
       "    <tr>\n",
       "      <th>0</th>\n",
       "      <td>0.0</td>\n",
       "      <td>0.0</td>\n",
       "    </tr>\n",
       "    <tr>\n",
       "      <th>1</th>\n",
       "      <td>362.0</td>\n",
       "      <td>1.0</td>\n",
       "    </tr>\n",
       "    <tr>\n",
       "      <th>2</th>\n",
       "      <td>475.0</td>\n",
       "      <td>1.0</td>\n",
       "    </tr>\n",
       "    <tr>\n",
       "      <th>3</th>\n",
       "      <td>500.0</td>\n",
       "      <td>0.0</td>\n",
       "    </tr>\n",
       "    <tr>\n",
       "      <th>4</th>\n",
       "      <td>525.0</td>\n",
       "      <td>0.0</td>\n",
       "    </tr>\n",
       "  </tbody>\n",
       "</table>\n",
       "</div>"
      ],
      "text/plain": [
       "   PayloadMass  success_rate\n",
       "0          0.0           0.0\n",
       "1        362.0           1.0\n",
       "2        475.0           1.0\n",
       "3        500.0           0.0\n",
       "4        525.0           0.0"
      ]
     },
     "execution_count": 8,
     "metadata": {},
     "output_type": "execute_result"
    }
   ],
   "source": [
    "first = df.groupby('Payload_Mass_kg').first().reset_index()\n",
    "first.shape\n",
    "\n",
    "group=df.groupby('Payload_Mass_kg').mean()[\"class\"]\n",
    "group=pd.DataFrame({\"PayloadMass\":group.index, \"success_rate\":group.values})\n",
    "group.head()"
   ]
  },
  {
   "cell_type": "code",
   "execution_count": 9,
   "id": "991d738e",
   "metadata": {},
   "outputs": [
    {
     "data": {
      "text/html": [
       "<div>\n",
       "<style scoped>\n",
       "    .dataframe tbody tr th:only-of-type {\n",
       "        vertical-align: middle;\n",
       "    }\n",
       "\n",
       "    .dataframe tbody tr th {\n",
       "        vertical-align: top;\n",
       "    }\n",
       "\n",
       "    .dataframe thead th {\n",
       "        text-align: right;\n",
       "    }\n",
       "</style>\n",
       "<table border=\"1\" class=\"dataframe\">\n",
       "  <thead>\n",
       "    <tr style=\"text-align: right;\">\n",
       "      <th></th>\n",
       "      <th>PayloadMass</th>\n",
       "      <th>success_rate</th>\n",
       "      <th>Booster_Version_Category</th>\n",
       "    </tr>\n",
       "  </thead>\n",
       "  <tbody>\n",
       "    <tr>\n",
       "      <th>0</th>\n",
       "      <td>0.0</td>\n",
       "      <td>0.0</td>\n",
       "      <td>v1.0</td>\n",
       "    </tr>\n",
       "    <tr>\n",
       "      <th>1</th>\n",
       "      <td>362.0</td>\n",
       "      <td>1.0</td>\n",
       "      <td>B4</td>\n",
       "    </tr>\n",
       "  </tbody>\n",
       "</table>\n",
       "</div>"
      ],
      "text/plain": [
       "   PayloadMass  success_rate Booster_Version_Category\n",
       "0          0.0           0.0                     v1.0\n",
       "1        362.0           1.0                       B4"
      ]
     },
     "execution_count": 9,
     "metadata": {},
     "output_type": "execute_result"
    }
   ],
   "source": [
    "group[\"Booster_Version_Category\"]=first[\"Booster_Version_Category\"]\n",
    "group.head(2)"
   ]
  },
  {
   "cell_type": "code",
   "execution_count": 10,
   "id": "e3864f94",
   "metadata": {},
   "outputs": [
    {
     "data": {
      "text/html": [
       "\n",
       "        <iframe\n",
       "            width=\"100%\"\n",
       "            height=\"650\"\n",
       "            src=\"http://127.0.0.1:8050/\"\n",
       "            frameborder=\"0\"\n",
       "            allowfullscreen\n",
       "            \n",
       "        ></iframe>\n",
       "        "
      ],
      "text/plain": [
       "<IPython.lib.display.IFrame at 0x25bfdb6a188>"
      ]
     },
     "metadata": {},
     "output_type": "display_data"
    }
   ],
   "source": [
    "\n",
    "app = JupyterDash(__name__)\n",
    "\n",
    "min_value=group[\"PayloadMass\"].min()\n",
    "max_value=group[\"PayloadMass\"].max()\n",
    "mark_values={0:\"0\", 500:\"500\", 1000:\"1000\", 2000:\"2000\", 3000:\"3000\", 4000:\"4000\", 5000:\"5000\",\\\n",
    "             6000:\"6000\", 7000:\"70000\", 8000:\"8000\", 9000:\"9000\", 10000:\"10000\"}\n",
    "app.layout = html.Div(children=[\n",
    "html.Div([\n",
    "    html.Div([html.Pre(children=\"Success vs PayloadMass\",\n",
    "            style={\"text-align\":\"center\", \"font-size\":\"100%\", \"color\":\"black\"})\n",
    "]),\n",
    "\n",
    "html.Div([\n",
    "    dcc.Graph(\"the graph\")\n",
    "]),\n",
    "html.Div([\n",
    "    dcc.RangeSlider(id=\"payload-slider\",\n",
    "                    min=0,\n",
    "                    max=10000,\n",
    "                    step=None,\n",
    "                    marks=mark_values,\n",
    "                    value=[min_value, max_value])\n",
    "],)\n",
    "])\n",
    "])\n",
    "\n",
    "\n",
    "\n",
    "\n",
    "\n",
    "\n",
    "\n",
    "\"\"\"Callback connects what user choose in slider and the graph\"\"\"\n",
    "@app.callback(\n",
    "    Output('the graph', 'figure'),\n",
    "    [Input('payload-slider', 'value')])\n",
    "def update_graph(payloadmass):\n",
    "    low, high = payloadmass\n",
    "    mask = (group[\"PayloadMass\"] > low) & (group[\"PayloadMass\"] < high)\n",
    "    fig = px.scatter(\n",
    "        group[mask], x=\"PayloadMass\", y=\"success_rate\", color=\"Booster_Version_Category\",\n",
    "        hover_data=[\"PayloadMass\"])\n",
    "    return fig\n",
    "                 \n",
    "                 \n",
    "\n",
    "\n",
    "app.run_server(mode='inline')"
   ]
  },
  {
   "cell_type": "code",
   "execution_count": 11,
   "id": "5c44fbf8",
   "metadata": {},
   "outputs": [
    {
     "data": {
      "text/html": [
       "\n",
       "        <iframe\n",
       "            width=\"100%\"\n",
       "            height=\"650\"\n",
       "            src=\"http://127.0.0.1:8050/\"\n",
       "            frameborder=\"0\"\n",
       "            allowfullscreen\n",
       "            \n",
       "        ></iframe>\n",
       "        "
      ],
      "text/plain": [
       "<IPython.lib.display.IFrame at 0x25bff618c08>"
      ]
     },
     "metadata": {},
     "output_type": "display_data"
    }
   ],
   "source": [
    "\n",
    "app = JupyterDash(__name__)\n",
    "\n",
    "min_value=group[\"PayloadMass\"].min()\n",
    "max_value=group[\"PayloadMass\"].max()\n",
    "mark_values={0:\"0\", 500:\"500\", 1000:\"1000\", 2000:\"2000\", 3000:\"3000\", 4000:\"4000\", 5000:\"5000\",\\\n",
    "             6000:\"6000\", 7000:\"70000\", 8000:\"8000\", 9000:\"9000\", 10000:\"10000\"}\n",
    "app.layout = html.Div(children=[\n",
    "    html.Div([\n",
    "    html.H4('Launches success rate pie-chart'),\n",
    "    dcc.Graph(id=\"graph\"),\n",
    "    html.P(\"Names:\"),\n",
    "    dcc.Dropdown(id='names',\n",
    "        options=['All sites', 'CCAFS LC-40', 'KSC LC-39A', 'VAFB SLC-4E', 'CCAFS SLC-40'],\n",
    "        value='All sites', clearable=False, placeholder='Select a Launch Site here', searchable=True\n",
    "),\n",
    "]),\n",
    "\n",
    "\n",
    "])\n",
    "\n",
    "\n",
    "\n",
    "@app.callback(\n",
    "    Output(\"graph\", \"figure\"),  \n",
    "    Input(\"names\", \"value\"))\n",
    "def get_pie_chart(entered_site):\n",
    "    if entered_site == 'All sites':\n",
    "        group=df.groupby(\"Launch_Site\").mean()[\"class\"]\n",
    "        group=pd.DataFrame({\"class\":group.index, \"values\":group.values})\n",
    "        fig = px.pie(group, values=\"values\", \n",
    "        names='class', \n",
    "        title='Success rate at' +\" \"+ entered_site)\n",
    "        return fig\n",
    "    else:\n",
    "        group = df[df[\"Launch_Site\"]==entered_site]\n",
    "        group=group[\"class\"].value_counts()\n",
    "        group=pd.DataFrame({\"class\":group.index, \"values\":group.values})\n",
    "        fig = px.pie(group, values='values', names='class', title='Success rate at' +\" \"+\n",
    "                     entered_site)\n",
    "        return fi \n",
    "                 \n",
    "\n",
    "\n",
    "app.run_server(mode='inline')"
   ]
  },
  {
   "cell_type": "markdown",
   "id": "73450561",
   "metadata": {},
   "source": [
    "Which site has the largest successful launches?  KSC LC-39A<br>\n",
    "Which site has the highest launch success/failure ratio? CCAFS SLC-40<br>\n",
    "Which payload range(s) has the highest launch success rate? 2000-4000<br>\n",
    "Which payload range(s) has the lowest launch success rate? 500-2000<br>\n",
    "Which F9 Booster version (v1.0, v1.1, FT, B4, B5, etc.) has the highest launch success rate? FT"
   ]
  },
  {
   "cell_type": "code",
   "execution_count": null,
   "id": "ed2455b1",
   "metadata": {},
   "outputs": [],
   "source": []
  }
 ],
 "metadata": {
  "kernelspec": {
   "display_name": "Python 3 (ipykernel)",
   "language": "python",
   "name": "python3"
  },
  "language_info": {
   "codemirror_mode": {
    "name": "ipython",
    "version": 3
   },
   "file_extension": ".py",
   "mimetype": "text/x-python",
   "name": "python",
   "nbconvert_exporter": "python",
   "pygments_lexer": "ipython3",
   "version": "3.7.13"
  }
 },
 "nbformat": 4,
 "nbformat_minor": 5
}
